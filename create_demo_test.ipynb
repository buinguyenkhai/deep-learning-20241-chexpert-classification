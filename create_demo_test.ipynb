{
 "cells": [
  {
   "cell_type": "code",
   "execution_count": 34,
   "metadata": {},
   "outputs": [],
   "source": [
    "import pandas as pd\n",
    "import os\n",
    "import shutil\n"
   ]
  },
  {
   "cell_type": "markdown",
   "metadata": {},
   "source": [
    "Since we stratified split train, validation, test set from train and validation folders, it might be hard to find the test images in the folders. We will pick some examples that are in the test set from the folders for inference and GUI demonstration"
   ]
  },
  {
   "cell_type": "code",
   "execution_count": 35,
   "metadata": {},
   "outputs": [],
   "source": [
    "u0_test = pd.read_csv('u0_test.csv', index_col=0)\n",
    "u1_test = pd.read_csv('u1_test.csv', index_col=0)\n",
    "u0_test.index = u0_test.index.str.replace('CheXpert-v1.0-small', 'chexpert')\n",
    "u1_test.index = u1_test.index.str.replace('CheXpert-v1.0-small', 'chexpert')"
   ]
  },
  {
   "cell_type": "code",
   "execution_count": 36,
   "metadata": {},
   "outputs": [],
   "source": [
    "def copy_images_with_to_directory(source_paths, base_destination):\n",
    "    \"\"\"\n",
    "    Copies images from their source paths to a new base destination.\n",
    "\n",
    "    :source_paths: List of source image paths\n",
    "    :base_destination: Base destination directory where files will be copied\n",
    "    \"\"\"\n",
    "    base_destination = os.path.abspath(base_destination)\n",
    "\n",
    "    for source_path in source_paths:\n",
    "        source_path = os.path.abspath(source_path)\n",
    "\n",
    "        # Check if the source path is a file\n",
    "        if not os.path.isfile(source_path):\n",
    "            print(f\"Skipping invalid path: {source_path}\")\n",
    "            continue\n",
    "\n",
    "        # Create the corresponding destination path\n",
    "        relative_path = os.path.relpath(source_path, start=os.getcwd())\n",
    "        destination_path = os.path.join(base_destination, relative_path)\n",
    "\n",
    "        # Ensure the destination directory exists\n",
    "        os.makedirs(os.path.dirname(destination_path), exist_ok=True)\n",
    "\n",
    "        # Copy the file\n",
    "        shutil.copy(source_path, destination_path)\n",
    "        print(f\"Copied {source_path} to {destination_path}\")"
   ]
  },
  {
   "cell_type": "code",
   "execution_count": 37,
   "metadata": {},
   "outputs": [
    {
     "name": "stdout",
     "output_type": "stream",
     "text": [
      "Copied d:\\Khai\\Code\\Projects\\DL\\chexpert\\train\\patient00005\\study1\\view1_frontal.jpg to d:\\Khai\\Code\\Projects\\DL\\test\\u0\\chexpert\\train\\patient00005\\study1\\view1_frontal.jpg\n",
      "Copied d:\\Khai\\Code\\Projects\\DL\\chexpert\\train\\patient00005\\study2\\view1_frontal.jpg to d:\\Khai\\Code\\Projects\\DL\\test\\u0\\chexpert\\train\\patient00005\\study2\\view1_frontal.jpg\n",
      "Copied d:\\Khai\\Code\\Projects\\DL\\chexpert\\train\\patient00007\\study1\\view1_frontal.jpg to d:\\Khai\\Code\\Projects\\DL\\test\\u0\\chexpert\\train\\patient00007\\study1\\view1_frontal.jpg\n",
      "Copied d:\\Khai\\Code\\Projects\\DL\\chexpert\\train\\patient00008\\study2\\view1_frontal.jpg to d:\\Khai\\Code\\Projects\\DL\\test\\u0\\chexpert\\train\\patient00008\\study2\\view1_frontal.jpg\n",
      "Copied d:\\Khai\\Code\\Projects\\DL\\chexpert\\train\\patient00011\\study13\\view1_frontal.jpg to d:\\Khai\\Code\\Projects\\DL\\test\\u0\\chexpert\\train\\patient00011\\study13\\view1_frontal.jpg\n",
      "Copied d:\\Khai\\Code\\Projects\\DL\\chexpert\\train\\patient00011\\study11\\view1_frontal.jpg to d:\\Khai\\Code\\Projects\\DL\\test\\u0\\chexpert\\train\\patient00011\\study11\\view1_frontal.jpg\n",
      "Copied d:\\Khai\\Code\\Projects\\DL\\chexpert\\train\\patient00022\\study2\\view1_frontal.jpg to d:\\Khai\\Code\\Projects\\DL\\test\\u0\\chexpert\\train\\patient00022\\study2\\view1_frontal.jpg\n",
      "Copied d:\\Khai\\Code\\Projects\\DL\\chexpert\\train\\patient00023\\study11\\view1_frontal.jpg to d:\\Khai\\Code\\Projects\\DL\\test\\u0\\chexpert\\train\\patient00023\\study11\\view1_frontal.jpg\n",
      "Copied d:\\Khai\\Code\\Projects\\DL\\chexpert\\train\\patient00023\\study2\\view1_frontal.jpg to d:\\Khai\\Code\\Projects\\DL\\test\\u0\\chexpert\\train\\patient00023\\study2\\view1_frontal.jpg\n",
      "Copied d:\\Khai\\Code\\Projects\\DL\\chexpert\\train\\patient00023\\study5\\view1_frontal.jpg to d:\\Khai\\Code\\Projects\\DL\\test\\u0\\chexpert\\train\\patient00023\\study5\\view1_frontal.jpg\n"
     ]
    }
   ],
   "source": [
    "copy_images_with_to_directory(u0_test.head(10).index, \"test/u0\")"
   ]
  },
  {
   "cell_type": "code",
   "execution_count": 38,
   "metadata": {},
   "outputs": [
    {
     "name": "stdout",
     "output_type": "stream",
     "text": [
      "Copied d:\\Khai\\Code\\Projects\\DL\\chexpert\\train\\patient00002\\study1\\view1_frontal.jpg to d:\\Khai\\Code\\Projects\\DL\\test\\u1\\chexpert\\train\\patient00002\\study1\\view1_frontal.jpg\n",
      "Copied d:\\Khai\\Code\\Projects\\DL\\chexpert\\train\\patient00005\\study2\\view1_frontal.jpg to d:\\Khai\\Code\\Projects\\DL\\test\\u1\\chexpert\\train\\patient00005\\study2\\view1_frontal.jpg\n",
      "Copied d:\\Khai\\Code\\Projects\\DL\\chexpert\\train\\patient00006\\study1\\view1_frontal.jpg to d:\\Khai\\Code\\Projects\\DL\\test\\u1\\chexpert\\train\\patient00006\\study1\\view1_frontal.jpg\n",
      "Copied d:\\Khai\\Code\\Projects\\DL\\chexpert\\train\\patient00007\\study2\\view1_frontal.jpg to d:\\Khai\\Code\\Projects\\DL\\test\\u1\\chexpert\\train\\patient00007\\study2\\view1_frontal.jpg\n",
      "Copied d:\\Khai\\Code\\Projects\\DL\\chexpert\\train\\patient00008\\study2\\view1_frontal.jpg to d:\\Khai\\Code\\Projects\\DL\\test\\u1\\chexpert\\train\\patient00008\\study2\\view1_frontal.jpg\n",
      "Copied d:\\Khai\\Code\\Projects\\DL\\chexpert\\train\\patient00009\\study1\\view1_frontal.jpg to d:\\Khai\\Code\\Projects\\DL\\test\\u1\\chexpert\\train\\patient00009\\study1\\view1_frontal.jpg\n",
      "Copied d:\\Khai\\Code\\Projects\\DL\\chexpert\\train\\patient00011\\study13\\view1_frontal.jpg to d:\\Khai\\Code\\Projects\\DL\\test\\u1\\chexpert\\train\\patient00011\\study13\\view1_frontal.jpg\n",
      "Copied d:\\Khai\\Code\\Projects\\DL\\chexpert\\train\\patient00011\\study1\\view1_frontal.jpg to d:\\Khai\\Code\\Projects\\DL\\test\\u1\\chexpert\\train\\patient00011\\study1\\view1_frontal.jpg\n",
      "Copied d:\\Khai\\Code\\Projects\\DL\\chexpert\\train\\patient00011\\study12\\view1_frontal.jpg to d:\\Khai\\Code\\Projects\\DL\\test\\u1\\chexpert\\train\\patient00011\\study12\\view1_frontal.jpg\n",
      "Copied d:\\Khai\\Code\\Projects\\DL\\chexpert\\train\\patient00011\\study3\\view1_frontal.jpg to d:\\Khai\\Code\\Projects\\DL\\test\\u1\\chexpert\\train\\patient00011\\study3\\view1_frontal.jpg\n"
     ]
    }
   ],
   "source": [
    "copy_images_with_to_directory(u1_test.head(10).index, \"test/u1\")\n"
   ]
  },
  {
   "cell_type": "markdown",
   "metadata": {},
   "source": [
    "Labels for those dataset"
   ]
  },
  {
   "cell_type": "code",
   "execution_count": 41,
   "metadata": {},
   "outputs": [],
   "source": [
    "u0_test.head(10).to_csv('test/u0/u0_test.csv')\n",
    "u1_test.head(10).to_csv('test/u1/u1_test.csv')"
   ]
  }
 ],
 "metadata": {
  "kernelspec": {
   "display_name": "Python 3",
   "language": "python",
   "name": "python3"
  },
  "language_info": {
   "codemirror_mode": {
    "name": "ipython",
    "version": 3
   },
   "file_extension": ".py",
   "mimetype": "text/x-python",
   "name": "python",
   "nbconvert_exporter": "python",
   "pygments_lexer": "ipython3",
   "version": "3.12.8"
  }
 },
 "nbformat": 4,
 "nbformat_minor": 2
}
